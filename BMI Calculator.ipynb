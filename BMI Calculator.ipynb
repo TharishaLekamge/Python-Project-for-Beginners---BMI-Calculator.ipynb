{
 "cells": [
  {
   "cell_type": "code",
   "execution_count": 28,
   "id": "50220de1-19a5-4b85-9af3-6a57641544fa",
   "metadata": {},
   "outputs": [
    {
     "name": "stdin",
     "output_type": "stream",
     "text": [
      "Enter your name:  Tharisha\n",
      "Enter your weight in pounds:  110\n",
      "Enter your height in inches:  56\n"
     ]
    },
    {
     "name": "stdout",
     "output_type": "stream",
     "text": [
      "24.658801020408163\n",
      "Tharisha,you are Normal weight\n"
     ]
    }
   ],
   "source": [
    "Name = input (\"Enter your name: \")\n",
    "weight = int(input(\"Enter your weight in pounds: \"))\n",
    "\n",
    "height = int(input(\"Enter your height in inches: \"))\n",
    "\n",
    "BMI = (weight * 703) / (height * height)\n",
    "\n",
    "print(BMI)\n",
    "\n",
    "if BMI>0:\n",
    "    if(BMI<18.5):\n",
    "        print(Name + \",you are underweight\")\n",
    "    elif(BMI<= 24.9):\n",
    "        print(Name +\",you are Normal weight\")\n",
    "    elif(BMI<29.9):\n",
    "        print(Name +\",you are over weight\")\n",
    "    elif(BMI<34.9):\n",
    "        print(Name +\",you are Obese High\")\n",
    "    elif(BMI<39.9):\n",
    "        print(Name +\",you are Severely Obese Very High\")\n",
    "    else:\n",
    "        print(Name +\",Morbidly Obese Extremely High\")\n",
    "\n",
    "else:\n",
    "    print (\"Enter valid input\")\n",
    "\n"
   ]
  },
  {
   "cell_type": "code",
   "execution_count": null,
   "id": "51cb06cc-d705-4c06-9283-4d7e79122409",
   "metadata": {},
   "outputs": [],
   "source": []
  },
  {
   "cell_type": "code",
   "execution_count": null,
   "id": "23faac02-65cb-45b2-9328-7425e280f900",
   "metadata": {},
   "outputs": [],
   "source": []
  },
  {
   "cell_type": "code",
   "execution_count": null,
   "id": "76a9f46b-27cd-4e36-8f72-7c7a66b1f292",
   "metadata": {},
   "outputs": [],
   "source": []
  },
  {
   "cell_type": "code",
   "execution_count": 1,
   "id": "26dbfa21-975d-4889-8fae-5c08852de2d9",
   "metadata": {},
   "outputs": [],
   "source": [
    "#BMI = (weight in pounds x 703)/ (height in inchesx height in inches)"
   ]
  },
  {
   "cell_type": "code",
   "execution_count": null,
   "id": "4f2046fa-5255-4a29-9052-8ad13fb88604",
   "metadata": {},
   "outputs": [],
   "source": [
    "Under 18.5\tUnderweight\tMinimal\n",
    "18.5 - 24.9\tNormal Weight\tMinimal\n",
    "25 - 29.9\tOverweight\tIncreased\n",
    "30 - 34.9\tObese\tHigh\n",
    "35 - 39.9\tSeverely Obese\tVery High\n",
    "40 and over\tMorbidly Obese\tExtremely High"
   ]
  },
  {
   "cell_type": "code",
   "execution_count": 27,
   "id": "dc09ff11-1ea6-46b3-8ad9-9c867e790dee",
   "metadata": {},
   "outputs": [
    {
     "name": "stdout",
     "output_type": "stream",
     "text": [
      "Tharisha,you are Normal weight\n"
     ]
    }
   ],
   "source": [
    "if BMI>0:\n",
    "    if(BMI<18.5):\n",
    "        print(Name + \",you are underweight\")\n",
    "    elif(BMI<= 24.9):\n",
    "        print(Name +\",you are Normal weight\")\n",
    "    elif(BMI<29.9):\n",
    "        print(Name +\",you are over weight\")\n",
    "    elif(BMI<34.9):\n",
    "        print(Name +\",you are Obese High\")\n",
    "    elif(BMI<39.9):\n",
    "        print(Name +\",you are Severely Obese Very High\")\n",
    "    else:\n",
    "        print(Name +\",Morbidly Obese Extremely High\")\n",
    "\n",
    "else:\n",
    "    print (\"Enter valid input\")"
   ]
  },
  {
   "cell_type": "code",
   "execution_count": null,
   "id": "ccd113ec-6732-4c3b-b2db-044ec641b983",
   "metadata": {},
   "outputs": [],
   "source": []
  }
 ],
 "metadata": {
  "kernelspec": {
   "display_name": "Python 3 (ipykernel)",
   "language": "python",
   "name": "python3"
  },
  "language_info": {
   "codemirror_mode": {
    "name": "ipython",
    "version": 3
   },
   "file_extension": ".py",
   "mimetype": "text/x-python",
   "name": "python",
   "nbconvert_exporter": "python",
   "pygments_lexer": "ipython3",
   "version": "3.11.7"
  }
 },
 "nbformat": 4,
 "nbformat_minor": 5
}
